{
 "cells": [
  {
   "cell_type": "markdown",
   "id": "02c22ffc",
   "metadata": {},
   "source": [
    "## d'abord, on commence par télécharger les données et les décompresser."
   ]
  },
  {
   "cell_type": "code",
   "execution_count": 8,
   "id": "f44e4d33",
   "metadata": {},
   "outputs": [],
   "source": [
    "import requests\n",
    "from zipfile import ZipFile\n",
    "from io import BytesIO"
   ]
  },
  {
   "cell_type": "code",
   "execution_count": 9,
   "id": "1ed2549b",
   "metadata": {},
   "outputs": [],
   "source": [
    "url = \"http://rhobs-public.s3-website.eu-west-3.amazonaws.com/data.zip\"\n",
    "\n",
    "# envoyer HTTP GET\n",
    "response = requests.get(url)"
   ]
  },
  {
   "cell_type": "code",
   "execution_count": 10,
   "id": "c44f964d",
   "metadata": {},
   "outputs": [
    {
     "name": "stdout",
     "output_type": "stream",
     "text": [
      "Data has been successfully downloaded and extracted.\n"
     ]
    }
   ],
   "source": [
    "if response.status_code == 200:\n",
    "    # Open a ZipFile from the response content\n",
    "    with ZipFile(BytesIO(response.content), 'r') as zip_file:\n",
    "        # unzip lesdonnées\n",
    "        zip_file.extractall(\"data_folder\") \n",
    "    print(\"Data has been successfully downloaded and extracted.\")\n",
    "else:\n",
    "    print(\"Failed to download data. Status code:\", response.status_code)"
   ]
  },
  {
   "cell_type": "markdown",
   "id": "03ebeabe",
   "metadata": {},
   "source": [
    "## j'ai changé l'extension et le nom des données obtenues en 'data.csv'\n",
    "\n",
    "### explication des colonnes : \n",
    "\n",
    "- a : il s'agit probablement d'un identifiant ou d'un index pour chaque ligne dans le jeu de données.\n",
    "- b : la deuxième colonne semble contenir une description détaillée de quelque chose. Elle est étiquetée \"longue description\".\n",
    "- c : ccette colonne contient les prénoms.\n",
    "- d : la quatrième colonne contient les noms de famille.\n",
    "- e : la cinquième colonne semble représenter des valeurs numériques, probablement liées aux finances ou aux transactions.\n",
    "- f : cette colonne semble également représenter des valeurs numériques, potentiellement liées aux finances ou aux transactions.\n",
    "- g : la dernière colonne contient également des valeurs numériques, probablement liées aux finances ou aux transactions."
   ]
  },
  {
   "cell_type": "code",
   "execution_count": 1,
   "id": "4245cc0f",
   "metadata": {},
   "outputs": [],
   "source": [
    "import csv"
   ]
  },
  {
   "cell_type": "code",
   "execution_count": 9,
   "id": "de138430",
   "metadata": {},
   "outputs": [],
   "source": [
    "filename = \"data_folder/data.csv\"\n",
    "\n",
    "# Read data\n",
    "with open(filename, 'r', newline='') as file:\n",
    "    reader = csv.reader(file)\n",
    "    next(reader)\n",
    "    data = [tuple(row) for row in reader]\n",
    "    "
   ]
  },
  {
   "cell_type": "code",
   "execution_count": 10,
   "id": "44e68844",
   "metadata": {},
   "outputs": [
    {
     "name": "stdout",
     "output_type": "stream",
     "text": [
      "Les trois personnes les plus riches sont :\n",
      "CÃ©line Lombard : 3371242\n",
      "William Barbier : 3359619\n",
      "HÃ©loÃ¯se Zola : 3359191\n"
     ]
    }
   ],
   "source": [
    "# calculer la richesse totale pour chaque individu\n",
    "wealth = {}\n",
    "for item in data:\n",
    "    total_wealth = sum(int(value) for value in item[4:])\n",
    "    wealth[item[2] + \" \" + item[3]] = total_wealth\n",
    "\n",
    "# trouver les trois personnes les plus riches\n",
    "richest_individuals = sorted(wealth.items(), key=lambda x: x[1], reverse=True)[:3]\n",
    "\n",
    "# afficher les trois personnes les plus riches\n",
    "print(\"Les trois personnes les plus riches sont :\")\n",
    "for person, total_wealth in richest_individuals:\n",
    "    print(f\"{person} : {total_wealth}\")\n"
   ]
  },
  {
   "cell_type": "code",
   "execution_count": null,
   "id": "ed222238",
   "metadata": {},
   "outputs": [],
   "source": []
  }
 ],
 "metadata": {
  "kernelspec": {
   "display_name": "Python 3 (ipykernel)",
   "language": "python",
   "name": "python3"
  },
  "language_info": {
   "codemirror_mode": {
    "name": "ipython",
    "version": 3
   },
   "file_extension": ".py",
   "mimetype": "text/x-python",
   "name": "python",
   "nbconvert_exporter": "python",
   "pygments_lexer": "ipython3",
   "version": "3.9.13"
  }
 },
 "nbformat": 4,
 "nbformat_minor": 5
}
